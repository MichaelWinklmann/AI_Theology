{
  "nbformat": 4,
  "nbformat_minor": 0,
  "metadata": {
    "colab": {
      "name": "Feinschwarz_KI.ipynb",
      "provenance": [],
      "authorship_tag": "ABX9TyNNCJCxy3KVT6AxmDsc6st3",
      "include_colab_link": true
    },
    "kernelspec": {
      "name": "python3",
      "display_name": "Python 3"
    },
    "language_info": {
      "name": "python"
    }
  },
  "cells": [
    {
      "cell_type": "markdown",
      "metadata": {
        "id": "view-in-github",
        "colab_type": "text"
      },
      "source": [
        "<a href=\"https://colab.research.google.com/github/MichaelWinklmann/AI_Theology/blob/main/Feinschwarz_KI.ipynb\" target=\"_parent\"><img src=\"https://colab.research.google.com/assets/colab-badge.svg\" alt=\"Open In Colab\"/></a>"
      ]
    },
    {
      "cell_type": "markdown",
      "metadata": {
        "id": "_07azgqdW9X_"
      },
      "source": [
        "# Eine Künstliche Intelligenz zur Erstellung theologischer Texte\n",
        "Mit diesem Colab-Notebook können Sie das Sprachmodell testen, das mit Hilfe der Texte auf www.feinschwarz.net erstellt wurde. Weiter Informationen zum Modell finden Sie hier: https://huggingface.co/Michael711/feinschwarz \n",
        "\n",
        "Geben Sie bitte einen Satzanfang ein und wählen den Textumfang aus. Der Textumfang wird in Token angeben. Ein Token ist eine Sinneinheit, die in etwa einem Wort entspricht.\n",
        "\n",
        "Klicken Sie zum Starten bitte auf den \"Play\"-Button unter dieser Zeile, wenn Sie mit Ihren Eingaben zufrieden sind.\n",
        "\n"
      ]
    },
    {
      "cell_type": "code",
      "metadata": {
        "id": "5_MV_ThJDFSj",
        "collapsed": true,
        "cellView": "form"
      },
      "source": [
        "#Klicken Sie bitte auf den Pfeil links von dieser Anweisung. \n",
        "#So werden für die Texterstellung nötige Komponenten heruntergeladen.\n",
        "#Warten Sie bitte, bis der Programmcode vollständig ausgeführt wurde. Sie können das an einem grünen Häckchen links neben dem Play-Button erkennen.\n",
        "\n",
        "!pip install transformers\n",
        "from transformers import pipeline\n",
        "import IPython\n",
        "from IPython.display import display \n",
        "\n",
        "\n",
        "\n",
        "\n",
        "pipe = pipeline('text-generation', model=\"Michael711/feinschwarz\",\n",
        "                 tokenizer=\"Michael711/feinschwarz\")\n",
        "\n",
        "Satzanfang = \"F\\xFCrchtet euch nicht\" #@param {type:\"string\"}\n",
        "Textumfang =  150#@param {type:\"number\"}\n",
        "pipe = pipeline('text-generation', model=\"Michael711/feinschwarz\", tokenizer=\"Michael711/feinschwarz\")\n",
        "ai_text = pipe(Satzanfang, max_length=Textumfang)[0][\"generated_text\"]\n",
        "IPython.display.Markdown(\"ai_text\")\n",
        "\n",
        "print(ai_text)"
      ],
      "execution_count": null,
      "outputs": []
    }
  ]
}