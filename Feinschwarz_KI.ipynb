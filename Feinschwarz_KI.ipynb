{
  "nbformat": 4,
  "nbformat_minor": 0,
  "metadata": {
    "colab": {
      "name": "Feinschwarz_KI.ipynb",
      "provenance": [],
      "authorship_tag": "ABX9TyM/g62q3hPSBy4ZQ82ZEfNb",
      "include_colab_link": true
    },
    "kernelspec": {
      "name": "python3",
      "display_name": "Python 3"
    },
    "language_info": {
      "name": "python"
    }
  },
  "cells": [
    {
      "cell_type": "markdown",
      "metadata": {
        "id": "view-in-github",
        "colab_type": "text"
      },
      "source": [
        "<a href=\"https://colab.research.google.com/github/MichaelWinklmann/AI_Theology/blob/main/Feinschwarz_KI.ipynb\" target=\"_parent\"><img src=\"https://colab.research.google.com/assets/colab-badge.svg\" alt=\"Open In Colab\"/></a>"
      ]
    },
    {
      "cell_type": "markdown",
      "metadata": {
        "id": "_07azgqdW9X_"
      },
      "source": [
        "# Eine Künstliche Intelligenz zur Erstellung theologischer Texte\n",
        "Mit diesem Colab-Notebook können Sie das Sprachmodell testen, das mit Hilfe der Texte auf www.feinschwarz.net erstellt wurde. Weiter Informationen zum Modell finden Sie hier: https://huggingface.co/Michael711/feinschwarz \n",
        "\n",
        "Geben Sie bitte einen Satzanfang ein und wählen den Textumfang aus. Der Textumfang wird in Token angeben. Ein Token ist eine Sinneinheit, die in etwa einem Wort entspricht.\n",
        "\n",
        "Klicken Sie zum Starten bitte auf den \"Play\"-Button unter dieser Zeile, wenn Sie mit Ihren Eingaben zufrieden sind.\n",
        "\n"
      ]
    },
    {
      "cell_type": "code",
      "metadata": {
        "id": "5_MV_ThJDFSj",
        "collapsed": true
      },
      "source": [
        "!pip install transformers\n",
        "from transformers import pipeline\n",
        "!pip install markdown\n",
        "!pip install ipython\n",
        "from IPython.display import Markdown as md\n",
        "\n",
        "pipe = pipeline('text-generation', model=\"Michael711/feinschwarz\",\n",
        "                 tokenizer=\"Michael711/feinschwarz\")\n",
        "\n",
        "Satzanfang = \"Theologie is eine Wissenschaft, die \" #@param {type:\"string\"}\n",
        "Textumfang =  150#@param {type:\"number\"}\n",
        "pipe = pipeline('text-generation', model=\"Michael711/feinschwarz\", tokenizer=\"Michael711/feinschwarz\")\n",
        "ai_text = pipe(Satzanfang, max_length=Textumfang)[0][\"generated_text\"]"
      ],
      "execution_count": null,
      "outputs": []
    },
    {
      "cell_type": "code",
      "metadata": {
        "id": "gO7VQWsUYJpq",
        "outputId": "814b7042-8bcf-4f36-d22e-97d72bbc40ea",
        "colab": {
          "base_uri": "https://localhost:8080/",
          "height": 130
        }
      },
      "source": [
        "#@title\n",
        "md(f'Der generierte Text lautet: {ai_text}')"
      ],
      "execution_count": 21,
      "outputs": [
        {
          "output_type": "execute_result",
          "data": {
            "text/markdown": "Der generierte Text lautet: Theologie is eine Wissenschaft, die ontologische Perspektiven auswertet und zugleich auf religiöser und nicht religiöser Überzeugung beharrt. Das betrifft sowohl die Auseinandersetzung mit der theologischen Theologie als auch ihre theologische Reflexion, so die Theologin und Soziologin Judith Werner. Die Anthropologie des 20. Jahrhunderts als Wissenschaft ist also nicht eine Wissenschaft von Theologie, wie es den Anspruch erhebt, dass sich Theologie „jeder mit Gott, allen mit Gott (und überhaupt!) identifizieren“ kann, sondern die Anthropologie lehrt, dass sich Theologie nicht etwa auf „alle Menschen – mit ihrer Aufgabe in Religion und Wissen (und auch mit ihrer Tätigkeit im Leben und Denken), nicht alle (…) menschlichen (…) Individuen (und ihr Tun) sondern in allen Menschen als einem Ganzen und nicht isoliert",
            "text/plain": [
              "<IPython.core.display.Markdown object>"
            ]
          },
          "metadata": {},
          "execution_count": 21
        }
      ]
    }
  ]
}